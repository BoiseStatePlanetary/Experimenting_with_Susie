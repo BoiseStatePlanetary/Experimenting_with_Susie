{
 "cells": [
  {
   "cell_type": "markdown",
   "id": "9bf6d473-8f1b-4b7f-a23d-929215dc5b95",
   "metadata": {},
   "source": [
    "This notebook will explain what a function that fits both transits and occultations ought to look like."
   ]
  },
  {
   "cell_type": "code",
   "execution_count": 1,
   "id": "f9c7cebc-ea41-40b4-90ac-9e8cac3ccf77",
   "metadata": {},
   "outputs": [
    {
     "name": "stdout",
     "output_type": "stream",
     "text": [
      "('tra', 2454515.52496, 0.00043, -1640, ' H09')\n"
     ]
    }
   ],
   "source": [
    "%matplotlib inline\n",
    "\n",
    "import numpy as np\n",
    "import matplotlib.pyplot as plt\n",
    "from lmfit import Model\n",
    "\n",
    "filename = \"apjlab5c16t5.csv\"\n",
    "data = np.genfromtxt(filename, delimiter=',', names=True, dtype=None, encoding=None)\n",
    "print(data[0])\n",
    "\n",
    "# We need some way to flag the "
   ]
  },
  {
   "cell_type": "code",
   "execution_count": 4,
   "id": "e9fde692-a000-416e-9cf0-1b11a8e818be",
   "metadata": {},
   "outputs": [
    {
     "ename": "TypeError",
     "evalue": "Cannot compare structured or void to non-void arrays.",
     "output_type": "error",
     "traceback": [
      "\u001b[0;31m---------------------------------------------------------------------------\u001b[0m",
      "\u001b[0;31mTypeError\u001b[0m                                 Traceback (most recent call last)",
      "Cell \u001b[0;32mIn[4], line 18\u001b[0m\n\u001b[1;32m     13\u001b[0m         ret_val[\u001b[38;5;241m~\u001b[39mis_occultation] \u001b[38;5;241m=\u001b[39m (T0 \u001b[38;5;241m+\u001b[39m \u001b[38;5;241m0.5\u001b[39m\u001b[38;5;241m*\u001b[39mP) \u001b[38;5;241m+\u001b[39m P\u001b[38;5;241m*\u001b[39mE\n\u001b[1;32m     15\u001b[0m     \u001b[38;5;28;01mreturn\u001b[39;00m ret_val\n\u001b[0;32m---> 18\u001b[0m is_occultation \u001b[38;5;241m=\u001b[39m \u001b[43mdata\u001b[49m\u001b[43m[\u001b[49m\u001b[43m:\u001b[49m\u001b[43m]\u001b[49m\u001b[43m[\u001b[49m\u001b[38;5;241;43m-\u001b[39;49m\u001b[38;5;241;43m1\u001b[39;49m\u001b[43m]\u001b[49m\u001b[43m \u001b[49m\u001b[38;5;241;43m==\u001b[39;49m\u001b[43m \u001b[49m\u001b[38;5;124;43m\"\u001b[39;49m\u001b[38;5;124;43mocc\u001b[39;49m\u001b[38;5;124;43m\"\u001b[39;49m\n\u001b[1;32m     19\u001b[0m \u001b[38;5;28mprint\u001b[39m(is_occultation)\n\u001b[1;32m     21\u001b[0m \u001b[38;5;66;03m# x = np.linspace(-5,5,1000)\u001b[39;00m\n\u001b[1;32m     22\u001b[0m \u001b[38;5;66;03m# y = np.random.normal(loc=curve(x, 4, 3, n=2), scale=0.2, size=None)\u001b[39;00m\n\u001b[1;32m     23\u001b[0m \n\u001b[0;32m   (...)\u001b[0m\n\u001b[1;32m     37\u001b[0m \u001b[38;5;66;03m# # print out fit report\u001b[39;00m\n\u001b[1;32m     38\u001b[0m \u001b[38;5;66;03m# print(result.fit_report())\u001b[39;00m\n",
      "\u001b[0;31mTypeError\u001b[0m: Cannot compare structured or void to non-void arrays."
     ]
    }
   ],
   "source": [
    "def lin_fit(E, P, T0, is_occultation=None):\n",
    "    ret_val = np.zeros_like(times)\n",
    "\n",
    "    if(is_occultation is None):\n",
    "    # Default to transit times    \n",
    "        ret_val = T0 + P*E\n",
    "    \n",
    "    else:\n",
    "        # transit ephemeris\n",
    "        ret_val[~is_occultation] = T0 + P*E\n",
    "\n",
    "        # eclipse/occultation ephemeris\n",
    "        ret_val[~is_occultation] = (T0 + 0.5*P) + P*E\n",
    "        \n",
    "    return ret_val\n",
    "\n",
    "\n",
    "is_occultation = data[:][-1] == \"occ\"\n",
    "print(is_occultation)\n",
    "\n",
    "# x = np.linspace(-5,5,1000)\n",
    "# y = np.random.normal(loc=curve(x, 4, 3, n=2), scale=0.2, size=None)\n",
    "\n",
    "# # turn your curve function into an lmfit Model:\n",
    "# model = Model(curve)\n",
    "\n",
    "# # create parameters for the fit, giving decent initial values\n",
    "# # note that n will use the default function value by default\n",
    "# params = model.make_params(a=3.2, b=2.5)\n",
    "\n",
    "# # fix n so that it is not varied in the fit:\n",
    "# params['n'].vary = False\n",
    "\n",
    "# # do the fit\n",
    "# result = model.fit(y, params, x=x)\n",
    "\n",
    "# # print out fit report\n",
    "# print(result.fit_report())"
   ]
  }
 ],
 "metadata": {
  "kernelspec": {
   "display_name": "Python 3 (ipykernel)",
   "language": "python",
   "name": "python3"
  },
  "language_info": {
   "codemirror_mode": {
    "name": "ipython",
    "version": 3
   },
   "file_extension": ".py",
   "mimetype": "text/x-python",
   "name": "python",
   "nbconvert_exporter": "python",
   "pygments_lexer": "ipython3",
   "version": "3.12.1"
  }
 },
 "nbformat": 4,
 "nbformat_minor": 5
}
