{
 "cells": [
  {
   "cell_type": "markdown",
   "id": "9bf6d473-8f1b-4b7f-a23d-929215dc5b95",
   "metadata": {},
   "source": [
    "This notebook will explain what a function that fits both transits and occultations ought to look like."
   ]
  },
  {
   "cell_type": "code",
   "execution_count": 1,
   "id": "f9c7cebc-ea41-40b4-90ac-9e8cac3ccf77",
   "metadata": {},
   "outputs": [],
   "source": [
    "%matplotlib inline\n",
    "\n",
    "import numpy as np\n",
    "import matplotlib.pyplot as plt\n",
    "from scipy.optimize import curve_fit"
   ]
  },
  {
   "cell_type": "code",
   "execution_count": null,
   "id": "e9fde692-a000-416e-9cf0-1b11a8e818be",
   "metadata": {},
   "outputs": [],
   "source": []
  }
 ],
 "metadata": {
  "kernelspec": {
   "display_name": "Python 3 (ipykernel)",
   "language": "python",
   "name": "python3"
  },
  "language_info": {
   "codemirror_mode": {
    "name": "ipython",
    "version": 3
   },
   "file_extension": ".py",
   "mimetype": "text/x-python",
   "name": "python",
   "nbconvert_exporter": "python",
   "pygments_lexer": "ipython3",
   "version": "3.12.1"
  }
 },
 "nbformat": 4,
 "nbformat_minor": 5
}
