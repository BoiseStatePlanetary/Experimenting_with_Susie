{
 "cells": [
  {
   "cell_type": "markdown",
   "id": "9bf6d473-8f1b-4b7f-a23d-929215dc5b95",
   "metadata": {},
   "source": [
    "This notebook will explain what a function that fits both transits and occultations ought to look like."
   ]
  },
  {
   "cell_type": "code",
   "execution_count": 1,
   "id": "f9c7cebc-ea41-40b4-90ac-9e8cac3ccf77",
   "metadata": {},
   "outputs": [
    {
     "name": "stdout",
     "output_type": "stream",
     "text": [
      "('tra', 2454515.52496, 0.00043, -1640, ' H09')\n"
     ]
    }
   ],
   "source": [
    "%matplotlib inline\n",
    "\n",
    "import numpy as np\n",
    "import matplotlib.pyplot as plt\n",
    "from lmfit import Model\n",
    "\n",
    "filename = \"apjlab5c16t5.csv\"\n",
    "data = np.genfromtxt(filename, delimiter=',', names=True, dtype=None, encoding=None)\n",
    "print(data[0])\n",
    "\n",
    "# We need some way to flag the "
   ]
  },
  {
   "cell_type": "code",
   "execution_count": 28,
   "id": "e9fde692-a000-416e-9cf0-1b11a8e818be",
   "metadata": {},
   "outputs": [
    {
     "ename": "AttributeError",
     "evalue": "'numpy.ndarray' object has no attribute 'keys'",
     "output_type": "error",
     "traceback": [
      "\u001b[0;31m---------------------------------------------------------------------------\u001b[0m",
      "\u001b[0;31mAttributeError\u001b[0m                            Traceback (most recent call last)",
      "Cell \u001b[0;32mIn[28], line 35\u001b[0m\n\u001b[1;32m     29\u001b[0m params \u001b[38;5;241m=\u001b[39m model\u001b[38;5;241m.\u001b[39mmake_params(T0\u001b[38;5;241m=\u001b[39m\u001b[38;5;241m0.\u001b[39m, P\u001b[38;5;241m=\u001b[39m\u001b[38;5;241m1.091423\u001b[39m)\n\u001b[1;32m     31\u001b[0m \u001b[38;5;66;03m# fix n so that it is not varied in the fit:\u001b[39;00m\n\u001b[1;32m     32\u001b[0m \u001b[38;5;66;03m# params['is_occultation'].vary = False\u001b[39;00m\n\u001b[1;32m     33\u001b[0m \n\u001b[1;32m     34\u001b[0m \u001b[38;5;66;03m# do the fit\u001b[39;00m\n\u001b[0;32m---> 35\u001b[0m result \u001b[38;5;241m=\u001b[39m \u001b[43mmodel\u001b[49m\u001b[38;5;241;43m.\u001b[39;49m\u001b[43mfit\u001b[49m\u001b[43m(\u001b[49m\u001b[43mx\u001b[49m\u001b[43m,\u001b[49m\u001b[43m \u001b[49m\u001b[43my\u001b[49m\u001b[43m,\u001b[49m\u001b[43m \u001b[49m\u001b[43mparams\u001b[49m\u001b[43m)\u001b[49m\n\u001b[1;32m     37\u001b[0m \u001b[38;5;66;03m# # print out fit report\u001b[39;00m\n\u001b[1;32m     38\u001b[0m \u001b[38;5;66;03m# print(result.fit_report())\u001b[39;00m\n",
      "File \u001b[0;32m~/opt/anaconda3/envs/Experimenting_with_Susie/lib/python3.12/site-packages/lmfit/model.py:1125\u001b[0m, in \u001b[0;36mModel.fit\u001b[0;34m(self, data, params, weights, method, iter_cb, scale_covar, verbose, fit_kws, nan_policy, calc_covar, max_nfev, coerce_farray, **kwargs)\u001b[0m\n\u001b[1;32m   1120\u001b[0m         warnings\u001b[38;5;241m.\u001b[39mwarn(\u001b[38;5;124mf\u001b[39m\u001b[38;5;124m\"\u001b[39m\u001b[38;5;124mThe keyword argument \u001b[39m\u001b[38;5;132;01m{\u001b[39;00mname\u001b[38;5;132;01m}\u001b[39;00m\u001b[38;5;124m does not \u001b[39m\u001b[38;5;124m\"\u001b[39m \u001b[38;5;241m+\u001b[39m\n\u001b[1;32m   1121\u001b[0m                       \u001b[38;5;124m\"\u001b[39m\u001b[38;5;124mmatch any arguments of the model function. \u001b[39m\u001b[38;5;124m\"\u001b[39m \u001b[38;5;241m+\u001b[39m\n\u001b[1;32m   1122\u001b[0m                       \u001b[38;5;124m\"\u001b[39m\u001b[38;5;124mIt will be ignored.\u001b[39m\u001b[38;5;124m\"\u001b[39m, \u001b[38;5;167;01mUserWarning\u001b[39;00m)\n\u001b[1;32m   1124\u001b[0m \u001b[38;5;66;03m# If any parameter is not initialized raise a more helpful error.\u001b[39;00m\n\u001b[0;32m-> 1125\u001b[0m missing_param \u001b[38;5;241m=\u001b[39m \u001b[38;5;28;43many\u001b[39;49m\u001b[43m(\u001b[49m\u001b[43mp\u001b[49m\u001b[43m \u001b[49m\u001b[38;5;129;43;01mnot\u001b[39;49;00m\u001b[43m \u001b[49m\u001b[38;5;129;43;01min\u001b[39;49;00m\u001b[43m \u001b[49m\u001b[43mparams\u001b[49m\u001b[38;5;241;43m.\u001b[39;49m\u001b[43mkeys\u001b[49m\u001b[43m(\u001b[49m\u001b[43m)\u001b[49m\u001b[43m \u001b[49m\u001b[38;5;28;43;01mfor\u001b[39;49;00m\u001b[43m \u001b[49m\u001b[43mp\u001b[49m\u001b[43m \u001b[49m\u001b[38;5;129;43;01min\u001b[39;49;00m\u001b[43m \u001b[49m\u001b[38;5;28;43mself\u001b[39;49m\u001b[38;5;241;43m.\u001b[39;49m\u001b[43mparam_names\u001b[49m\u001b[43m)\u001b[49m\n\u001b[1;32m   1126\u001b[0m blank_param \u001b[38;5;241m=\u001b[39m \u001b[38;5;28many\u001b[39m((p\u001b[38;5;241m.\u001b[39mvalue \u001b[38;5;129;01mis\u001b[39;00m \u001b[38;5;28;01mNone\u001b[39;00m \u001b[38;5;129;01mand\u001b[39;00m p\u001b[38;5;241m.\u001b[39mexpr \u001b[38;5;129;01mis\u001b[39;00m \u001b[38;5;28;01mNone\u001b[39;00m)\n\u001b[1;32m   1127\u001b[0m                   \u001b[38;5;28;01mfor\u001b[39;00m p \u001b[38;5;129;01min\u001b[39;00m params\u001b[38;5;241m.\u001b[39mvalues())\n\u001b[1;32m   1128\u001b[0m \u001b[38;5;28;01mif\u001b[39;00m missing_param \u001b[38;5;129;01mor\u001b[39;00m blank_param:\n",
      "File \u001b[0;32m~/opt/anaconda3/envs/Experimenting_with_Susie/lib/python3.12/site-packages/lmfit/model.py:1125\u001b[0m, in \u001b[0;36m<genexpr>\u001b[0;34m(.0)\u001b[0m\n\u001b[1;32m   1120\u001b[0m         warnings\u001b[38;5;241m.\u001b[39mwarn(\u001b[38;5;124mf\u001b[39m\u001b[38;5;124m\"\u001b[39m\u001b[38;5;124mThe keyword argument \u001b[39m\u001b[38;5;132;01m{\u001b[39;00mname\u001b[38;5;132;01m}\u001b[39;00m\u001b[38;5;124m does not \u001b[39m\u001b[38;5;124m\"\u001b[39m \u001b[38;5;241m+\u001b[39m\n\u001b[1;32m   1121\u001b[0m                       \u001b[38;5;124m\"\u001b[39m\u001b[38;5;124mmatch any arguments of the model function. \u001b[39m\u001b[38;5;124m\"\u001b[39m \u001b[38;5;241m+\u001b[39m\n\u001b[1;32m   1122\u001b[0m                       \u001b[38;5;124m\"\u001b[39m\u001b[38;5;124mIt will be ignored.\u001b[39m\u001b[38;5;124m\"\u001b[39m, \u001b[38;5;167;01mUserWarning\u001b[39;00m)\n\u001b[1;32m   1124\u001b[0m \u001b[38;5;66;03m# If any parameter is not initialized raise a more helpful error.\u001b[39;00m\n\u001b[0;32m-> 1125\u001b[0m missing_param \u001b[38;5;241m=\u001b[39m \u001b[38;5;28many\u001b[39m(p \u001b[38;5;129;01mnot\u001b[39;00m \u001b[38;5;129;01min\u001b[39;00m \u001b[43mparams\u001b[49m\u001b[38;5;241;43m.\u001b[39;49m\u001b[43mkeys\u001b[49m() \u001b[38;5;28;01mfor\u001b[39;00m p \u001b[38;5;129;01min\u001b[39;00m \u001b[38;5;28mself\u001b[39m\u001b[38;5;241m.\u001b[39mparam_names)\n\u001b[1;32m   1126\u001b[0m blank_param \u001b[38;5;241m=\u001b[39m \u001b[38;5;28many\u001b[39m((p\u001b[38;5;241m.\u001b[39mvalue \u001b[38;5;129;01mis\u001b[39;00m \u001b[38;5;28;01mNone\u001b[39;00m \u001b[38;5;129;01mand\u001b[39;00m p\u001b[38;5;241m.\u001b[39mexpr \u001b[38;5;129;01mis\u001b[39;00m \u001b[38;5;28;01mNone\u001b[39;00m)\n\u001b[1;32m   1127\u001b[0m                   \u001b[38;5;28;01mfor\u001b[39;00m p \u001b[38;5;129;01min\u001b[39;00m params\u001b[38;5;241m.\u001b[39mvalues())\n\u001b[1;32m   1128\u001b[0m \u001b[38;5;28;01mif\u001b[39;00m missing_param \u001b[38;5;129;01mor\u001b[39;00m blank_param:\n",
      "\u001b[0;31mAttributeError\u001b[0m: 'numpy.ndarray' object has no attribute 'keys'"
     ]
    }
   ],
   "source": [
    "def lin_fit(E, P, T0):\n",
    "    ret_val = np.zeros_like(times)\n",
    "\n",
    "    # if(is_occultation is None):\n",
    "    # Default to transit times    \n",
    "    ret_val = T0 + P*E\n",
    "    \n",
    "    # else:\n",
    "    #     # transit ephemeris\n",
    "    #     ret_val[~is_occultation] = T0 + P*E\n",
    "\n",
    "    #     # eclipse/occultation ephemeris\n",
    "    #     ret_val[~is_occultation] = (T0 + 0.5*P) + P*E\n",
    "        \n",
    "    return ret_val\n",
    "\n",
    "is_occultation = [data[i][0] == \"occ\" for i in range(len(data))]\n",
    "x = np.array([data[i][3] for i in range(len(data))])\n",
    "y = np.array([data[i][1] for i in range(len(data))])\n",
    "\n",
    "# print(data[0])\n",
    "# ('tra', 2454515.52496, 0.00043, -1640, ' H09')\n",
    "\n",
    "# turn your curve function into an lmfit Model:\n",
    "model = Model(lin_fit)\n",
    "\n",
    "# create parameters for the fit, giving decent initial values\n",
    "# note that n will use the default function value by default\n",
    "params = model.make_params(T0=0., P=1.091423)\n",
    "\n",
    "# fix n so that it is not varied in the fit:\n",
    "# params['is_occultation'].vary = False\n",
    "\n",
    "# do the fit\n",
    "result = model.fit(x, y, params)\n",
    "\n",
    "# # print out fit report\n",
    "# print(result.fit_report())"
   ]
  }
 ],
 "metadata": {
  "kernelspec": {
   "display_name": "Python 3 (ipykernel)",
   "language": "python",
   "name": "python3"
  },
  "language_info": {
   "codemirror_mode": {
    "name": "ipython",
    "version": 3
   },
   "file_extension": ".py",
   "mimetype": "text/x-python",
   "name": "python",
   "nbconvert_exporter": "python",
   "pygments_lexer": "ipython3",
   "version": "3.12.1"
  }
 },
 "nbformat": 4,
 "nbformat_minor": 5
}
