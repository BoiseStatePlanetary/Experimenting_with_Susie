{
 "cells": [
  {
   "cell_type": "markdown",
   "id": "9bf6d473-8f1b-4b7f-a23d-929215dc5b95",
   "metadata": {},
   "source": [
    "This notebook will explain what a function that fits both transits and occultations ought to look like."
   ]
  },
  {
   "cell_type": "code",
   "execution_count": 1,
   "id": "f9c7cebc-ea41-40b4-90ac-9e8cac3ccf77",
   "metadata": {},
   "outputs": [
    {
     "name": "stdout",
     "output_type": "stream",
     "text": [
      "('tra', 2454515.52496, 0.00043, -1640, ' H09')\n"
     ]
    }
   ],
   "source": [
    "%matplotlib inline\n",
    "\n",
    "import numpy as np\n",
    "import matplotlib.pyplot as plt\n",
    "from lmfit import Model\n",
    "\n",
    "filename = \"apjlab5c16t5.csv\"\n",
    "data = np.genfromtxt(filename, delimiter=',', names=True, dtype=None, encoding=None)\n",
    "print(data[0])"
   ]
  },
  {
   "cell_type": "code",
   "execution_count": 17,
   "id": "e9fde692-a000-416e-9cf0-1b11a8e818be",
   "metadata": {},
   "outputs": [
    {
     "name": "stdout",
     "output_type": "stream",
     "text": [
      "[[Model]]\n",
      "    Model(lin_fit)\n",
      "[[Fit Statistics]]\n",
      "    # fitting method   = leastsq\n",
      "    # function evals   = 19\n",
      "    # data points      = 158\n",
      "    # variables        = 2\n",
      "    chi-square         = 6.3984e-05\n",
      "    reduced chi-square = 4.1016e-07\n",
      "    Akaike info crit   = -2321.67592\n",
      "    Bayesian info crit = -2315.55073\n",
      "    R-squared          = 1.00000000\n",
      "[[Variables]]\n",
      "    P:   1.09141966 +/- 5.2100e-08 (0.00%) (init = 1.091423)\n",
      "    T0:  2456305.46 +/- 5.5084e-05 (0.00%) (init = 0)\n",
      "[[Correlations]] (unreported correlations are < 0.100)\n",
      "    C(P, T0) = -0.3801\n"
     ]
    }
   ],
   "source": [
    "def lin_fit(E, P, T0, is_occultation=None):\n",
    "    ret_val = np.zeros(len(E))\n",
    "   \n",
    "    if(is_occultation is None):\n",
    "    # Default to transit times    \n",
    "        ret_val = T0 + P*E\n",
    "    \n",
    "    else:\n",
    "        ind = is_occultation == 0.\n",
    "        \n",
    "        # transit ephemeris\n",
    "        ret_val[ind] = T0 + P*E[ind]\n",
    "\n",
    "        # eclipse/occultation ephemeris\n",
    "        ret_val[~ind] = (T0 + 0.5*P) + P*E[~ind]\n",
    "        \n",
    "    return ret_val\n",
    "\n",
    "# We need some way to flag the occultations and distinguish them from transits.\n",
    "is_occultation = [data[i][0] == \"occ\" for i in range(len(data))]\n",
    "\n",
    "E = np.array([data[i][3] for i in range(len(data))])\n",
    "mid_times = np.array([data[i][1] for i in range(len(data))])\n",
    "\n",
    "# print(data[0])\n",
    "# ('tra', 2454515.52496, 0.00043, -1640, ' H09')\n",
    "\n",
    "# turn your curve function into an lmfit Model - https://lmfit.github.io/lmfit-py/model.html\n",
    "model = Model(lin_fit,independent_vars=['E','is_occultation'])\n",
    "\n",
    "# create parameters for the fit, giving decent initial values\n",
    "# note that n will use the default function value by default\n",
    "params = model.make_params(T0=0., P=1.091423, is_occultation=is_occultation)\n",
    "\n",
    "# do the fit\n",
    "result = model.fit(mid_times, params, E=E, is_occultation=is_occultation)\n",
    "\n",
    "# print out fit report\n",
    "print(result.fit_report())"
   ]
  }
 ],
 "metadata": {
  "kernelspec": {
   "display_name": "Python 3 (ipykernel)",
   "language": "python",
   "name": "python3"
  },
  "language_info": {
   "codemirror_mode": {
    "name": "ipython",
    "version": 3
   },
   "file_extension": ".py",
   "mimetype": "text/x-python",
   "name": "python",
   "nbconvert_exporter": "python",
   "pygments_lexer": "ipython3",
   "version": "3.12.1"
  }
 },
 "nbformat": 4,
 "nbformat_minor": 5
}
