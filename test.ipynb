{
 "cells": [
  {
   "cell_type": "markdown",
   "metadata": {},
   "source": [
    "# 🐷 Susie Package Test Notebook"
   ]
  },
  {
   "cell_type": "markdown",
   "metadata": {},
   "source": [
    "### 🔷 Import the necessary python libraries and Susie objects."
   ]
  },
  {
   "cell_type": "markdown",
   "metadata": {},
   "source": [
    "Importing the package from Test PyPi"
   ]
  },
  {
   "cell_type": "code",
   "execution_count": 1,
   "metadata": {},
   "outputs": [],
   "source": [
    "import numpy as np\n",
    "import pandas as pd\n",
    "from susie.timing_data import TimingData\n",
    "from susie.ephemeris import Ephemeris\n",
    "import matplotlib.pyplot as plt"
   ]
  },
  {
   "cell_type": "markdown",
   "metadata": {},
   "source": [
    "### 🔷 **STEP 1:** Add your transit data to the TransitTimes object."
   ]
  },
  {
   "cell_type": "markdown",
   "metadata": {},
   "source": [
    "❗️**IMPORTANT:** Use either code block below depending on your data needs. The first code block contains values pulled from a CSV file. The second has hard coded values.\n",
    "\n",
    "<small>NOTE: You can use any method and/or file type to upload your data. Just make sure the resulting variables (epoch, mid transit times, and mid transit time errors) are numpy arrays</small>"
   ]
  },
  {
   "cell_type": "markdown",
   "metadata": {},
   "source": [
    "Can use this code block if you have the **CSV file**"
   ]
  },
  {
   "cell_type": "code",
   "execution_count": 2,
   "metadata": {},
   "outputs": [],
   "source": [
    "url = 'https://raw.githubusercontent.com/BoiseStatePlanetary/susie/refs/heads/main/example_data/wasp12b_tra_occ.csv'\n",
    "\n",
    "# Read the CSV file directly from the URL\n",
    "data = pd.read_csv(url)\n",
    "tra_or_occs = np.array(data[\"tra_or_occ\"])\n",
    "epochs = np.array(data[\"epoch\"].astype('int'))\n",
    "mid_times = np.array(data[\"mid_time\"])\n",
    "mid_time_errs = np.array(data[\"mid_time_err\"])"
   ]
  },
  {
   "cell_type": "code",
   "execution_count": 5,
   "metadata": {},
   "outputs": [],
   "source": [
    "# Create new transit times object with above data\n",
    "timing_obj1 = TimingData('jd', epochs, mid_times, mid_time_uncertainties=mid_time_errs, tra_or_occ=tra_or_occs, time_scale='tdb')"
   ]
  },
  {
   "cell_type": "code",
   "execution_count": 7,
   "metadata": {},
   "outputs": [],
   "source": [
    "ephemeris_obj1 = Ephemeris(timing_obj1)"
   ]
  },
  {
   "cell_type": "code",
   "execution_count": 8,
   "metadata": {},
   "outputs": [
    {
     "name": "stderr",
     "output_type": "stream",
     "text": [
      "/Users/brian/opt/anaconda3/envs/Experimenting_with_Susie/lib/python3.12/site-packages/susie/ephemeris.py:100: RuntimeWarning: divide by zero encountered in divide\n",
      "  period_tra = np.divide(mid_time_diff_tra, epochs_diff_tra)[-1] if x[tra_mask].size > 0 else np.nan\n"
     ]
    }
   ],
   "source": [
    "# Getting a linear model will solve for period and conjuction time (and their respective errors)\n",
    "linear_model_data = ephemeris_obj1.fit_model('linear')"
   ]
  },
  {
   "cell_type": "code",
   "execution_count": 16,
   "metadata": {},
   "outputs": [
    {
     "name": "stdout",
     "output_type": "stream",
     "text": [
      "<class 'numpy.ndarray'>\n"
     ]
    }
   ],
   "source": [
    "# for key, value in linear_model_data.items():\n",
    "#     print(f\"{key}: {value}\\n\")\n",
    "\n",
    "print(type(linear_model_data['model_data']))"
   ]
  },
  {
   "cell_type": "code",
   "execution_count": 18,
   "metadata": {},
   "outputs": [],
   "source": [
    "# Getting a quadratic model will solve for period, conjuction time, and period change per epoch (and their respective errors)\n",
    "quadratic_model_data = ephemeris_obj1.fit_model('quadratic')"
   ]
  },
  {
   "cell_type": "code",
   "execution_count": 19,
   "metadata": {},
   "outputs": [
    {
     "name": "stdout",
     "output_type": "stream",
     "text": [
      "period: 1.0914201004265118\n",
      "\n",
      "period_err: 4.3900535211519775e-08\n",
      "\n",
      "conjunction_time: 2456305.455807562\n",
      "\n",
      "conjunction_time_err: 3.414167652367265e-05\n",
      "\n",
      "period_change_by_epoch: -9.901370056956606e-10\n",
      "\n",
      "period_change_by_epoch_err: 7.206673412049207e-11\n",
      "\n",
      "model_type: quadratic\n",
      "\n",
      "model_data: [2454515.52551133 2454769.28103476 2454773.64672073 2454836.40345546\n",
      " 2454840.76914119 2455140.90999678 2455147.4585237  2455163.82984085\n",
      " 2455172.56120991 2455194.93534233 2455202.57529006 2455209.6695277\n",
      " 2455210.76094879 2455230.40652831 2455254.41779174 2455494.53039964\n",
      " 2455498.89608298 2455509.81029125 2455510.90171207 2455517.99594703\n",
      " 2455518.5416578  2455542.55291547 2455542.55291547 2455566.56417267\n",
      " 2455576.93266962 2455587.84687718 2455590.57542939 2455598.2153746\n",
      " 2455600.39821609 2455601.48963683 2455603.6724783  2455623.31805141\n",
      " 2455876.52763163 2455887.44183648 2455888.53325696 2455890.71609791\n",
      " 2455903.81314356 2455910.90737638 2455920.18445042 2455923.45871177\n",
      " 2455924.00442182 2455946.37854093 2455946.92425098 2455947.46996136\n",
      " 2455948.56138179 2455951.83564305 2455952.92706347 2455959.47558598\n",
      " 2455960.56700639 2455970.38979007 2455971.48121048 2455982.39541446\n",
      " 2455983.48683485 2455984.57825524 2455985.66967564 2455996.58387949\n",
      " 2456005.31524251 2456006.40666288 2456245.42770054 2456249.79338115\n",
      " 2456273.80462423 2456282.53598523 2456284.71882547 2456297.81586683\n",
      " 2456302.18154726 2456305.45580756 2456319.64426878 2456328.37562945\n",
      " 2456329.46704953 2456604.50487791 2456605.59629774 2456606.68771757\n",
      " 2456607.77913739 2456629.60753372 2456630.69895353 2456638.88460219\n",
      " 2456642.15886158 2456654.710189   2456659.07586813 2456662.35012746\n",
      " 2456663.44154724 2456664.53296702 2456674.35574495 2456677.63000424\n",
      " 2456688.54420182 2456694.00130057 2456703.82407826 2456711.46401641\n",
      " 2456719.10395451 2456721.28679396 2456722.37821368 2456986.50175746\n",
      " 2457010.51298584 2457012.69582476 2457045.43840808 2457046.5298275\n",
      " 2457059.62686057 2457060.71827999 2457067.26679646 2457068.35821587\n",
      " 2457103.28363643 2457345.57871364 2457390.32689824 2457391.41831736\n",
      " 2457426.34372854 2457427.43514762 2457451.4463672  2457671.91299727\n",
      " 2457691.55853661 2457703.56414382 2457706.83840031 2457726.48393907\n",
      " 2457727.57535789 2457765.77501564 2457766.86643441 2457769.59498201\n",
      " 2457772.32352827 2457773.41494704 2457776.68920335 2457781.0548784\n",
      " 2457781.0548784  2457786.5119722  2457788.69480971 2457800.70041595\n",
      " 2457808.34034714 2457809.43176587 2457810.52318461 2457830.71443173\n",
      " 2458026.62407473 2458050.63528235 2458060.45804897 2458073.55507099\n",
      " 2458074.64648949 2458077.92074497 2458123.76032078 2458124.85173923\n",
      " 2458132.49166836 2458134.67450524 2458136.85734212 2458155.41145544\n",
      " 2458155.41145544 2458156.50287386 2458159.77712912 2458161.95996596\n",
      " 2458161.95996596 2458163.05138437 2458163.05138437 2458166.32563961\n",
      " 2458178.33124209 2458411.8947573  2458471.92275623 2458485.56548383\n",
      " 2458494.84253684 2458499.75391934 2458504.11959178 2458506.84813604\n",
      " 2458508.48526419 2458517.21660898]\n",
      "\n"
     ]
    }
   ],
   "source": [
    "for key, value in quadratic_model_data.items():\n",
    "    print(f\"{key}: {value}\\n\")"
   ]
  },
  {
   "cell_type": "code",
   "execution_count": 20,
   "metadata": {},
   "outputs": [
    {
     "name": "stdout",
     "output_type": "stream",
     "text": [
      "period: 1.0914196985313172\n",
      "\n",
      "period_err: 1.3218760080415902e-07\n",
      "\n",
      "conjunction_time: 2456305.45536\n",
      "\n",
      "conjunction_time_err: 0.00015706406134456083\n",
      "\n",
      "eccentricity: 0.0010000000000000009\n",
      "\n",
      "eccentricity_err: 0.0005602519531796543\n",
      "\n",
      "pericenter: 2.0\n",
      "\n",
      "pericenter_err: 0.4577749036402396\n",
      "\n",
      "pericenter_change_by_epoch: 0.001\n",
      "\n",
      "pericenter_change_by_epoch_err: 0.0003538492772010011\n",
      "\n",
      "model_type: precession\n",
      "\n",
      "model_data: [2454515.52672922 2454769.28250952 2454773.64818754 2454836.40417001\n",
      " 2454840.76984965 2455140.91033478 2455147.45885465 2455163.83015435\n",
      " 2455172.56151422 2455194.93609658 2455202.57603244 2455209.66979377\n",
      " 2455210.76121376 2455230.40677362 2455254.41801352 2455494.53041674\n",
      " 2455498.89609686 2455509.81029716 2455510.90171719 2455517.99623467\n",
      " 2455518.5416574  2455542.55289812 2455542.55289812 2455566.56413887\n",
      " 2455576.93288028 2455587.84707389 2455590.57537967 2455598.21531993\n",
      " 2455600.39816001 2455601.48958005 2455603.67242012 2455623.31798082\n",
      " 2455876.52743105 2455887.44163151 2455888.53305156 2455890.71589165\n",
      " 2455903.81293219 2455910.90720251 2455920.18423287 2455923.45849301\n",
      " 2455924.00423474 2455946.37831394 2455946.92404114 2455947.46973399\n",
      " 2455948.56115403 2455951.83541416 2455952.92683421 2455959.47535447\n",
      " 2455960.56677451 2455970.38955491 2455971.48097495 2455982.39517538\n",
      " 2455983.48659542 2455984.57801547 2455985.66943551 2455996.58363594\n",
      " 2456005.31499627 2456006.40641631 2456245.42740359 2456249.79308368\n",
      " 2456273.80432412 2456282.53568426 2456284.7185243  2456297.81556449\n",
      " 2456302.18124455 2456305.4555046  2456319.64396477 2456328.37532487\n",
      " 2456329.46674488 2456604.50458209 2456605.59600205 2456606.68742202\n",
      " 2456607.77884198 2456629.60724119 2456630.69866115 2456638.88393197\n",
      " 2456642.15819029 2456654.70990017 2456659.07557998 2456662.34983984\n",
      " 2456663.44125979 2456664.53267974 2456674.35545929 2456677.62971913\n",
      " 2456688.5439186  2456694.00101832 2456703.82379781 2456711.4637374\n",
      " 2456719.10367698 2456721.28651685 2456722.37793679 2456986.50155383\n",
      " 2457010.51279091 2457012.69563064 2457045.43822639 2457046.52964625\n",
      " 2457059.62668447 2457060.71810432 2457067.26662341 2457068.35804326\n",
      " 2457103.28347821 2457345.578674   2457390.32688403 2457391.41830378\n",
      " 2457426.34373558 2457427.43515532 2457451.44638947 2457671.91316791\n",
      " 2457691.55872174 2457703.56433791 2457706.83859686 2457726.48415049\n",
      " 2457727.57557014 2457765.77525742 2457766.86667705 2457769.59463187\n",
      " 2457772.3237752  2457773.41519483 2457776.68945371 2457781.05513222\n",
      " 2457781.05513222 2457786.51223034 2457788.69506959 2457800.70068543\n",
      " 2457808.34062276 2457809.43204238 2457810.52346199 2457830.71413937\n",
      " 2458026.62453963 2458050.6357697  2458060.45854559 2458073.55558008\n",
      " 2458074.64699961 2458077.92125823 2458123.76087853 2458124.85229805\n",
      " 2458132.49223471 2458134.67507376 2458136.8579128  2458155.41204461\n",
      " 2458155.41204461 2458156.50346413 2458159.77772267 2458161.9605617\n",
      " 2458161.9605617  2458163.05198122 2458163.05198122 2458166.32623976\n",
      " 2458178.33185438 2458411.89562312 2458471.92369262 2458485.56606678\n",
      " 2458494.84350079 2458499.75452629 2458504.12020614 2458506.84911455\n",
      " 2458508.485886   2458517.21724573]\n",
      "\n"
     ]
    },
    {
     "name": "stderr",
     "output_type": "stream",
     "text": [
      "/Users/brian/opt/anaconda3/envs/Experimenting_with_Susie/lib/python3.12/site-packages/susie/ephemeris.py:369: RuntimeWarning: divide by zero encountered in divide\n",
      "  period_tra = np.divide(mid_time_diff_tra, epochs_diff_tra)[-1] if x[tra_mask].size > 0 else np.nan\n"
     ]
    }
   ],
   "source": [
    "# Getting a quadratic model will solve for period, conjuction time, and period change per epoch (and their respective errors)\n",
    "precession_model_data = ephemeris_obj1.fit_model('precession')\n",
    "for key, value in precession_model_data.items():\n",
    "    print(f\"{key}: {value}\\n\")"
   ]
  },
  {
   "cell_type": "code",
   "execution_count": 21,
   "metadata": {},
   "outputs": [
    {
     "name": "stdout",
     "output_type": "stream",
     "text": [
      "Help on method fit_model in module susie.ephemeris:\n",
      "\n",
      "fit_model(model_type) method of susie.ephemeris.Ephemeris instance\n",
      "    Fits the timing data to a specified model using an LMfit Model fit.\n",
      "\n",
      "    Parameters\n",
      "    ----------\n",
      "        model_type: str\n",
      "            Either 'linear', 'quadratic', or 'precession'. Represents the type of model to fit the data to.\n",
      "\n",
      "    Returns\n",
      "    -------\n",
      "        model_data: dict\n",
      "            A dictionary of best-fit parameters from the model fit.\n",
      "                Example:\n",
      "\n",
      "                If a linear model is chosen, these parameters are:\n",
      "\n",
      "                .. code-block:: python\n",
      "\n",
      "                    {\n",
      "                        'model_type': \"Either linear, quadratic, or precession\",\n",
      "                        'model_data': \"A list of calculated mid-times using the best-fit parameter values for each epoch\",\n",
      "                        'period': \"Estimated orbital period of the exoplanet (in units of days)\",\n",
      "                        'period_err': \"Uncertainty associated with orbital period (in units of days)\",\n",
      "                        'conjunction_time': \"Time of conjunction of exoplanet transit or occultation\",\n",
      "                        'conjunction_time_err': \"Uncertainty associated with conjunction_time\",\n",
      "                    }\n",
      "\n",
      "                If a quadratic model is chosen, the same linear variables are returned, and the following additional parameters are included in the dictionary:\n",
      "\n",
      "                .. code-block:: python\n",
      "\n",
      "                    {\n",
      "                        'period_change_by_epoch': \"The exoplanet orbital decay rate, which is the change in period with respect to epoch (in units of days)\",\n",
      "                        'period_change_by_epoch_err': \"The uncertainties associated with period_change_by_epoch (in units of days)\"\n",
      "                    }\n",
      "\n",
      "                If a precession model is chosen, the same linear variables are returned, and the following additional parameters are included in the dictionary:\n",
      "\n",
      "                .. code-block:: python\n",
      "\n",
      "                    {\n",
      "                        'eccentricity': \"The eccentricity of the exoplanet's orbit\",\n",
      "                        'eccentricity_err': \"The uncertainties associated with eccentricity\",\n",
      "                        'pericenter': \"The argument of pericenter of the exoplanet\",\n",
      "                        'pericenter_err': \"The uncertainties associated with pericenter\",\n",
      "                        'pericenter_change_by_epoch': \"The precession rate, which is the change in pericenter with respect to epoch, of the exoplanet's orbit\",\n",
      "                        'pericenter_change_by_epoch_err': \"The uncertainties associated with precession rate\"\n",
      "                    }\n",
      "\n"
     ]
    }
   ],
   "source": [
    "help(ephemeris_obj1.fit_model)"
   ]
  }
 ],
 "metadata": {
  "kernelspec": {
   "display_name": "Python 3 (ipykernel)",
   "language": "python",
   "name": "python3"
  },
  "language_info": {
   "codemirror_mode": {
    "name": "ipython",
    "version": 3
   },
   "file_extension": ".py",
   "mimetype": "text/x-python",
   "name": "python",
   "nbconvert_exporter": "python",
   "pygments_lexer": "ipython3",
   "version": "3.12.1"
  }
 },
 "nbformat": 4,
 "nbformat_minor": 4
}
